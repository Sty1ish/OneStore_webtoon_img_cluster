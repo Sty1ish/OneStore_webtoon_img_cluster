{
 "cells": [
  {
   "cell_type": "code",
   "execution_count": 1,
   "metadata": {
    "collapsed": true,
    "pycharm": {
     "name": "#%%\n"
    }
   },
   "outputs": [],
   "source": [
    "# data driven packages\n",
    "import os\n",
    "import numpy as np\n",
    "import pandas as pd\n",
    "from tqdm import tqdm\n",
    "from PIL import ImageColor\n",
    "\n",
    "# plotting packages\n",
    "import umap\n",
    "import matplotlib.pyplot as plt\n",
    "from matplotlib.colors import to_rgb\n",
    "import plotnine\n",
    "from plotnine import *\n",
    "\n",
    "# cluster packages\n",
    "from kmodes.kprototypes import KPrototypes\n",
    "\n",
    "# use importance plot\n",
    "from lightgbm import LGBMClassifier\n",
    "from sklearn.model_selection import cross_val_score\n",
    "\n",
    "# file copy-arrange\n",
    "import shutil"
   ]
  },
  {
   "cell_type": "markdown",
   "source": [
    "작업 경로 설정\n",
    "데이터 불러오기"
   ],
   "metadata": {
    "collapsed": false,
    "pycharm": {
     "name": "#%% md\n"
    }
   }
  },
  {
   "cell_type": "code",
   "execution_count": 2,
   "outputs": [],
   "source": [
    "os.chdir(r'C:\\Users\\styli\\Desktop\\github_repository_add\\OneStore_webtoon_img_cluster')\n",
    "data = pd.read_csv('webtoon_top5col.csv')"
   ],
   "metadata": {
    "collapsed": false,
    "pycharm": {
     "name": "#%%\n"
    }
   }
  },
  {
   "cell_type": "markdown",
   "source": [
    "데이터 형태 확인"
   ],
   "metadata": {
    "collapsed": false,
    "pycharm": {
     "name": "#%% md\n"
    }
   }
  },
  {
   "cell_type": "code",
   "execution_count": 3,
   "outputs": [
    {
     "data": {
      "text/plain": "                   제목 카테고리     hex1     hex2     hex3     hex4     hex5  \\\n0        4와 2분의 1 정거장   BL  #fefcf7  #fcd2cf  #fa8263  #f6ae9d  #dd3435   \n1              BL의 정석   BL  #e5e8e9  #3294c2  #282b2e  #6a6f73  #b6b7b9   \n2  Not so bad(낫 소 배드)   BL  #fdf6f1  #301632  #f3d9c4  #693560  #b68293   \n3          Take on Me   BL  #f2f5f1  #f0c9c2  #d4898d  #914a5d  #431c27   \n4   [BL] 새비지 가든 [일반판]   BL  #fdf8f0  #65504d  #a39796  #e1c3ae  #251916   \n\n   hex1rate  hex2rate  hex3rate  hex4rate  hex5rate               file_path  \n0  0.362742  0.254111  0.181476  0.106669  0.095002        4와 2분의 1 정거장.jpg  \n1  0.595297  0.128252  0.106436  0.085562  0.084453              BL의 정석.jpg  \n2  0.538033  0.174916  0.169953  0.064639  0.052458  Not so bad(낫 소 배드).jpg  \n3  0.550254  0.149492  0.129461  0.092122  0.078671          Take on Me.jpg  \n4  0.323965  0.282766  0.149054  0.134914  0.109301   [BL] 새비지 가든 [일반판].jpg  ",
      "text/html": "<div>\n<style scoped>\n    .dataframe tbody tr th:only-of-type {\n        vertical-align: middle;\n    }\n\n    .dataframe tbody tr th {\n        vertical-align: top;\n    }\n\n    .dataframe thead th {\n        text-align: right;\n    }\n</style>\n<table border=\"1\" class=\"dataframe\">\n  <thead>\n    <tr style=\"text-align: right;\">\n      <th></th>\n      <th>제목</th>\n      <th>카테고리</th>\n      <th>hex1</th>\n      <th>hex2</th>\n      <th>hex3</th>\n      <th>hex4</th>\n      <th>hex5</th>\n      <th>hex1rate</th>\n      <th>hex2rate</th>\n      <th>hex3rate</th>\n      <th>hex4rate</th>\n      <th>hex5rate</th>\n      <th>file_path</th>\n    </tr>\n  </thead>\n  <tbody>\n    <tr>\n      <th>0</th>\n      <td>4와 2분의 1 정거장</td>\n      <td>BL</td>\n      <td>#fefcf7</td>\n      <td>#fcd2cf</td>\n      <td>#fa8263</td>\n      <td>#f6ae9d</td>\n      <td>#dd3435</td>\n      <td>0.362742</td>\n      <td>0.254111</td>\n      <td>0.181476</td>\n      <td>0.106669</td>\n      <td>0.095002</td>\n      <td>4와 2분의 1 정거장.jpg</td>\n    </tr>\n    <tr>\n      <th>1</th>\n      <td>BL의 정석</td>\n      <td>BL</td>\n      <td>#e5e8e9</td>\n      <td>#3294c2</td>\n      <td>#282b2e</td>\n      <td>#6a6f73</td>\n      <td>#b6b7b9</td>\n      <td>0.595297</td>\n      <td>0.128252</td>\n      <td>0.106436</td>\n      <td>0.085562</td>\n      <td>0.084453</td>\n      <td>BL의 정석.jpg</td>\n    </tr>\n    <tr>\n      <th>2</th>\n      <td>Not so bad(낫 소 배드)</td>\n      <td>BL</td>\n      <td>#fdf6f1</td>\n      <td>#301632</td>\n      <td>#f3d9c4</td>\n      <td>#693560</td>\n      <td>#b68293</td>\n      <td>0.538033</td>\n      <td>0.174916</td>\n      <td>0.169953</td>\n      <td>0.064639</td>\n      <td>0.052458</td>\n      <td>Not so bad(낫 소 배드).jpg</td>\n    </tr>\n    <tr>\n      <th>3</th>\n      <td>Take on Me</td>\n      <td>BL</td>\n      <td>#f2f5f1</td>\n      <td>#f0c9c2</td>\n      <td>#d4898d</td>\n      <td>#914a5d</td>\n      <td>#431c27</td>\n      <td>0.550254</td>\n      <td>0.149492</td>\n      <td>0.129461</td>\n      <td>0.092122</td>\n      <td>0.078671</td>\n      <td>Take on Me.jpg</td>\n    </tr>\n    <tr>\n      <th>4</th>\n      <td>[BL] 새비지 가든 [일반판]</td>\n      <td>BL</td>\n      <td>#fdf8f0</td>\n      <td>#65504d</td>\n      <td>#a39796</td>\n      <td>#e1c3ae</td>\n      <td>#251916</td>\n      <td>0.323965</td>\n      <td>0.282766</td>\n      <td>0.149054</td>\n      <td>0.134914</td>\n      <td>0.109301</td>\n      <td>[BL] 새비지 가든 [일반판].jpg</td>\n    </tr>\n  </tbody>\n</table>\n</div>"
     },
     "execution_count": 3,
     "metadata": {},
     "output_type": "execute_result"
    }
   ],
   "source": [
    "data.head()"
   ],
   "metadata": {
    "collapsed": false,
    "pycharm": {
     "name": "#%%\n"
    }
   }
  },
  {
   "cell_type": "code",
   "execution_count": 4,
   "outputs": [
    {
     "name": "stdout",
     "output_type": "stream",
     "text": [
      "<class 'pandas.core.frame.DataFrame'>\n",
      "RangeIndex: 1107 entries, 0 to 1106\n",
      "Data columns (total 13 columns):\n",
      " #   Column     Non-Null Count  Dtype  \n",
      "---  ------     --------------  -----  \n",
      " 0   제목         1107 non-null   object \n",
      " 1   카테고리       1107 non-null   object \n",
      " 2   hex1       1107 non-null   object \n",
      " 3   hex2       1107 non-null   object \n",
      " 4   hex3       1107 non-null   object \n",
      " 5   hex4       1107 non-null   object \n",
      " 6   hex5       1107 non-null   object \n",
      " 7   hex1rate   1107 non-null   float64\n",
      " 8   hex2rate   1107 non-null   float64\n",
      " 9   hex3rate   1107 non-null   float64\n",
      " 10  hex4rate   1107 non-null   float64\n",
      " 11  hex5rate   1107 non-null   float64\n",
      " 12  file_path  1107 non-null   object \n",
      "dtypes: float64(5), object(8)\n",
      "memory usage: 112.6+ KB\n"
     ]
    }
   ],
   "source": [
    "data.info()"
   ],
   "metadata": {
    "collapsed": false,
    "pycharm": {
     "name": "#%%\n"
    }
   }
  },
  {
   "cell_type": "markdown",
   "source": [
    "hex1 ~ hex5는 색깔 분포의 순위를 의미하고\n",
    "hex1rate는 해당번째 순위의 정도를 의미하고 있다.\n",
    "\n",
    "NN은 비지도 학습에 좋지 못하므로 제외\n",
    "카테고리는 범주형 자료이니 군집화시 유의\n",
    "hexcode는 rgb형으로 바꾸어 분석을 실시하여야 할 것."
   ],
   "metadata": {
    "collapsed": false,
    "pycharm": {
     "name": "#%% md\n"
    }
   }
  },
  {
   "cell_type": "markdown",
   "source": [
    "RGB형은 다음과 같이 변형이 가능하다."
   ],
   "metadata": {
    "collapsed": false,
    "pycharm": {
     "name": "#%% md\n"
    }
   }
  },
  {
   "cell_type": "code",
   "execution_count": 5,
   "outputs": [
    {
     "name": "stdout",
     "output_type": "stream",
     "text": [
      "hex code : #fefcf7 , rgb : (254, 252, 247) \n",
      "정규화 rgb : (0.996078431372549, 0.9882352941176471, 0.9686274509803922)\n"
     ]
    }
   ],
   "source": [
    "print(f'hex code : {data.hex1[0]} , rgb : {ImageColor.getcolor(data.hex1[0], \"RGB\")} ')\n",
    "a, b, c = ImageColor.getcolor(data.hex1[0], \"RGB\")\n",
    "print(f'정규화 rgb : {a/255, b/255, c/255}')"
   ],
   "metadata": {
    "collapsed": false,
    "pycharm": {
     "name": "#%%\n"
    }
   }
  },
  {
   "cell_type": "markdown",
   "source": [
    "혹은 다음과 같이 변형이 가능하다.\n",
    "사실 to_rgb는 모르는 사용법이라 한번 결과체크하는 과정때문에 사용함.\n",
    "\n",
    "k-mean 과정에는 스케일링을 같게 해주는 과정이 필요하므로, 이 변환이 더 올바르다고 판단하였다."
   ],
   "metadata": {
    "collapsed": false,
    "pycharm": {
     "name": "#%% md\n"
    }
   }
  },
  {
   "cell_type": "code",
   "execution_count": 6,
   "outputs": [
    {
     "data": {
      "text/plain": "(0.996078431372549, 0.9882352941176471, 0.9686274509803922)"
     },
     "execution_count": 6,
     "metadata": {},
     "output_type": "execute_result"
    }
   ],
   "source": [
    "to_rgb(data.hex1[0])"
   ],
   "metadata": {
    "collapsed": false,
    "pycharm": {
     "name": "#%%\n"
    }
   }
  },
  {
   "cell_type": "markdown",
   "source": [
    "비효율적이긴 한데 효율적인 생각이 바로 안나니까, 그냥 이대로 구현함."
   ],
   "metadata": {
    "collapsed": false,
    "pycharm": {
     "name": "#%% md\n"
    }
   }
  },
  {
   "cell_type": "code",
   "execution_count": 7,
   "outputs": [],
   "source": [
    "import matplotlib\n",
    "from PIL import ImageColor\n",
    "\n",
    "hex1 = np.array([matplotlib.colors.rgb_to_hsv(ImageColor.getcolor(line, \"RGB\")) for line in data.hex1])\n",
    "hex2 = np.array([matplotlib.colors.rgb_to_hsv(ImageColor.getcolor(line, \"RGB\")) for line in data.hex2])\n",
    "hex3 = np.array([matplotlib.colors.rgb_to_hsv(ImageColor.getcolor(line, \"RGB\")) for line in data.hex3])\n",
    "hex4 = np.array([matplotlib.colors.rgb_to_hsv(ImageColor.getcolor(line, \"RGB\")) for line in data.hex4])\n",
    "hex5 = np.array([matplotlib.colors.rgb_to_hsv(ImageColor.getcolor(line, \"RGB\")) for line in data.hex5])\n",
    "\n",
    "#hex2 = np.array([to_rgb(line) for line in data.hex2])\n",
    "#hex3 = np.array([to_rgb(line) for line in data.hex3])\n",
    "#hex4 = np.array([to_rgb(line) for line in data.hex4])\n",
    "#hex5 = np.array([to_rgb(line) for line in data.hex5])"
   ],
   "metadata": {
    "collapsed": false,
    "pycharm": {
     "name": "#%%\n"
    }
   }
  },
  {
   "cell_type": "markdown",
   "source": [
    "HLS 좌표에서 RGB 좌표로 색을 변환합니다."
   ],
   "metadata": {
    "collapsed": false,
    "pycharm": {
     "name": "#%% md\n"
    }
   }
  },
  {
   "cell_type": "markdown",
   "source": [
    "RGB값으로 분석을 진행하니, 명도 채도만 유사성으로 학습하였다. 따라서 HSV 변환을 통해, 색상, 명도 채도를 표현하겠다."
   ],
   "metadata": {
    "collapsed": false,
    "pycharm": {
     "name": "#%% md\n"
    }
   }
  },
  {
   "cell_type": "code",
   "execution_count": 8,
   "outputs": [],
   "source": [
    "hex_arr = np.concatenate((hex1, hex2, hex3, hex4, hex5),axis=1)"
   ],
   "metadata": {
    "collapsed": false,
    "pycharm": {
     "name": "#%%\n"
    }
   }
  },
  {
   "cell_type": "code",
   "execution_count": 9,
   "outputs": [
    {
     "data": {
      "text/plain": "array([[1.19047619e-01, 2.75590551e-02, 2.54000000e+02, 1.11111111e-02,\n        1.78571429e-01, 2.52000000e+02, 3.42163355e-02, 6.04000000e-01,\n        2.50000000e+02, 3.18352060e-02, 3.61788618e-01, 2.46000000e+02,\n        9.99013807e-01, 7.64705882e-01, 2.21000000e+02],\n       [5.41666667e-01, 1.71673820e-02, 2.33000000e+02, 5.53240741e-01,\n        7.42268041e-01, 1.94000000e+02, 5.83333333e-01, 1.30434783e-01,\n        4.60000000e+01, 5.74074074e-01, 7.82608696e-02, 1.15000000e+02,\n        6.11111111e-01, 1.62162162e-02, 1.85000000e+02],\n       [6.94444444e-02, 4.74308300e-02, 2.53000000e+02, 8.21428571e-01,\n        5.60000000e-01, 5.00000000e+01, 7.44680851e-02, 1.93415638e-01,\n        2.43000000e+02, 8.62179487e-01, 4.95238095e-01, 1.05000000e+02,\n        9.45512821e-01, 2.85714286e-01, 1.82000000e+02],\n       [2.91666667e-01, 1.63265306e-02, 2.45000000e+02, 2.53623188e-02,\n        1.91666667e-01, 2.40000000e+02, 9.91111111e-01, 3.53773585e-01,\n        2.12000000e+02, 9.55399061e-01, 4.89655172e-01, 1.45000000e+02,\n        9.52991453e-01, 5.82089552e-01, 6.70000000e+01],\n       [1.02564103e-01, 5.13833992e-02, 2.53000000e+02, 2.08333333e-02,\n        2.37623762e-01, 1.01000000e+02, 1.28205128e-02, 7.97546012e-02,\n        1.63000000e+02, 6.86274510e-02, 2.26666667e-01, 2.25000000e+02,\n        3.33333333e-02, 4.05405405e-01, 3.70000000e+01]])"
     },
     "execution_count": 9,
     "metadata": {},
     "output_type": "execute_result"
    }
   ],
   "source": [
    "hex_arr[:5]"
   ],
   "metadata": {
    "collapsed": false,
    "pycharm": {
     "name": "#%%\n"
    }
   }
  },
  {
   "cell_type": "code",
   "execution_count": 10,
   "outputs": [],
   "source": [
    "hex_arr = hex_arr / 255"
   ],
   "metadata": {
    "collapsed": false,
    "pycharm": {
     "name": "#%%\n"
    }
   }
  },
  {
   "cell_type": "markdown",
   "source": [
    "hsv값을 임포트 하였다. h, s, v값은 전처리 실시하였음. -> / 255"
   ],
   "metadata": {
    "collapsed": false,
    "pycharm": {
     "name": "#%% md\n"
    }
   }
  },
  {
   "cell_type": "code",
   "execution_count": 11,
   "outputs": [],
   "source": [
    "hsv_col_lab = ['hex1h', 'hex1s', 'hex1v', 'hex2h', 'hex2s', 'hex2v', 'hex3h', 'hex3s', 'hex3v',\n",
    "               'hex4h', 'hex4s', 'hex4v', 'hex5h', 'hex5s', 'hex5v',]\n",
    "hsv_data = pd.DataFrame(hex_arr, columns = hsv_col_lab)"
   ],
   "metadata": {
    "collapsed": false,
    "pycharm": {
     "name": "#%%\n"
    }
   }
  },
  {
   "cell_type": "markdown",
   "source": [
    "RGB 값 변화한 데이터를, data에 결합해준다.\n",
    "이하 데이터셋을 분석 기본 세트로 정의함."
   ],
   "metadata": {
    "collapsed": false,
    "pycharm": {
     "name": "#%% md\n"
    }
   }
  },
  {
   "cell_type": "code",
   "execution_count": 12,
   "outputs": [
    {
     "data": {
      "text/plain": "      hex1h     hex1s     hex1v     hex2h     hex2s     hex2v     hex3h  \\\n0  0.000467  0.000108  0.996078  0.000044  0.000700  0.988235  0.000134   \n1  0.002124  0.000067  0.913725  0.002170  0.002911  0.760784  0.002288   \n2  0.000272  0.000186  0.992157  0.003221  0.002196  0.196078  0.000292   \n3  0.001144  0.000064  0.960784  0.000099  0.000752  0.941176  0.003887   \n4  0.000402  0.000202  0.992157  0.000082  0.000932  0.396078  0.000050   \n\n      hex3s     hex3v     hex4h     hex4s     hex4v     hex5h     hex5s  \\\n0  0.002369  0.980392  0.000125  0.001419  0.964706  0.003918  0.002999   \n1  0.000512  0.180392  0.002251  0.000307  0.450980  0.002397  0.000064   \n2  0.000758  0.952941  0.003381  0.001942  0.411765  0.003708  0.001120   \n3  0.001387  0.831373  0.003747  0.001920  0.568627  0.003737  0.002283   \n4  0.000313  0.639216  0.000269  0.000889  0.882353  0.000131  0.001590   \n\n      hex5v  \n0  0.866667  \n1  0.725490  \n2  0.713725  \n3  0.262745  \n4  0.145098  ",
      "text/html": "<div>\n<style scoped>\n    .dataframe tbody tr th:only-of-type {\n        vertical-align: middle;\n    }\n\n    .dataframe tbody tr th {\n        vertical-align: top;\n    }\n\n    .dataframe thead th {\n        text-align: right;\n    }\n</style>\n<table border=\"1\" class=\"dataframe\">\n  <thead>\n    <tr style=\"text-align: right;\">\n      <th></th>\n      <th>hex1h</th>\n      <th>hex1s</th>\n      <th>hex1v</th>\n      <th>hex2h</th>\n      <th>hex2s</th>\n      <th>hex2v</th>\n      <th>hex3h</th>\n      <th>hex3s</th>\n      <th>hex3v</th>\n      <th>hex4h</th>\n      <th>hex4s</th>\n      <th>hex4v</th>\n      <th>hex5h</th>\n      <th>hex5s</th>\n      <th>hex5v</th>\n    </tr>\n  </thead>\n  <tbody>\n    <tr>\n      <th>0</th>\n      <td>0.000467</td>\n      <td>0.000108</td>\n      <td>0.996078</td>\n      <td>0.000044</td>\n      <td>0.000700</td>\n      <td>0.988235</td>\n      <td>0.000134</td>\n      <td>0.002369</td>\n      <td>0.980392</td>\n      <td>0.000125</td>\n      <td>0.001419</td>\n      <td>0.964706</td>\n      <td>0.003918</td>\n      <td>0.002999</td>\n      <td>0.866667</td>\n    </tr>\n    <tr>\n      <th>1</th>\n      <td>0.002124</td>\n      <td>0.000067</td>\n      <td>0.913725</td>\n      <td>0.002170</td>\n      <td>0.002911</td>\n      <td>0.760784</td>\n      <td>0.002288</td>\n      <td>0.000512</td>\n      <td>0.180392</td>\n      <td>0.002251</td>\n      <td>0.000307</td>\n      <td>0.450980</td>\n      <td>0.002397</td>\n      <td>0.000064</td>\n      <td>0.725490</td>\n    </tr>\n    <tr>\n      <th>2</th>\n      <td>0.000272</td>\n      <td>0.000186</td>\n      <td>0.992157</td>\n      <td>0.003221</td>\n      <td>0.002196</td>\n      <td>0.196078</td>\n      <td>0.000292</td>\n      <td>0.000758</td>\n      <td>0.952941</td>\n      <td>0.003381</td>\n      <td>0.001942</td>\n      <td>0.411765</td>\n      <td>0.003708</td>\n      <td>0.001120</td>\n      <td>0.713725</td>\n    </tr>\n    <tr>\n      <th>3</th>\n      <td>0.001144</td>\n      <td>0.000064</td>\n      <td>0.960784</td>\n      <td>0.000099</td>\n      <td>0.000752</td>\n      <td>0.941176</td>\n      <td>0.003887</td>\n      <td>0.001387</td>\n      <td>0.831373</td>\n      <td>0.003747</td>\n      <td>0.001920</td>\n      <td>0.568627</td>\n      <td>0.003737</td>\n      <td>0.002283</td>\n      <td>0.262745</td>\n    </tr>\n    <tr>\n      <th>4</th>\n      <td>0.000402</td>\n      <td>0.000202</td>\n      <td>0.992157</td>\n      <td>0.000082</td>\n      <td>0.000932</td>\n      <td>0.396078</td>\n      <td>0.000050</td>\n      <td>0.000313</td>\n      <td>0.639216</td>\n      <td>0.000269</td>\n      <td>0.000889</td>\n      <td>0.882353</td>\n      <td>0.000131</td>\n      <td>0.001590</td>\n      <td>0.145098</td>\n    </tr>\n  </tbody>\n</table>\n</div>"
     },
     "execution_count": 12,
     "metadata": {},
     "output_type": "execute_result"
    }
   ],
   "source": [
    "hsv_data.head()"
   ],
   "metadata": {
    "collapsed": false,
    "pycharm": {
     "name": "#%%\n"
    }
   }
  },
  {
   "cell_type": "code",
   "execution_count": 13,
   "outputs": [],
   "source": [
    "data = pd.concat([data, hsv_data], axis = 1)"
   ],
   "metadata": {
    "collapsed": false,
    "pycharm": {
     "name": "#%%\n"
    }
   }
  },
  {
   "cell_type": "code",
   "execution_count": 14,
   "outputs": [
    {
     "name": "stdout",
     "output_type": "stream",
     "text": [
      "<class 'pandas.core.frame.DataFrame'>\n",
      "RangeIndex: 1107 entries, 0 to 1106\n",
      "Data columns (total 28 columns):\n",
      " #   Column     Non-Null Count  Dtype  \n",
      "---  ------     --------------  -----  \n",
      " 0   제목         1107 non-null   object \n",
      " 1   카테고리       1107 non-null   object \n",
      " 2   hex1       1107 non-null   object \n",
      " 3   hex2       1107 non-null   object \n",
      " 4   hex3       1107 non-null   object \n",
      " 5   hex4       1107 non-null   object \n",
      " 6   hex5       1107 non-null   object \n",
      " 7   hex1rate   1107 non-null   float64\n",
      " 8   hex2rate   1107 non-null   float64\n",
      " 9   hex3rate   1107 non-null   float64\n",
      " 10  hex4rate   1107 non-null   float64\n",
      " 11  hex5rate   1107 non-null   float64\n",
      " 12  file_path  1107 non-null   object \n",
      " 13  hex1h      1107 non-null   float64\n",
      " 14  hex1s      1107 non-null   float64\n",
      " 15  hex1v      1107 non-null   float64\n",
      " 16  hex2h      1107 non-null   float64\n",
      " 17  hex2s      1107 non-null   float64\n",
      " 18  hex2v      1107 non-null   float64\n",
      " 19  hex3h      1107 non-null   float64\n",
      " 20  hex3s      1107 non-null   float64\n",
      " 21  hex3v      1107 non-null   float64\n",
      " 22  hex4h      1107 non-null   float64\n",
      " 23  hex4s      1107 non-null   float64\n",
      " 24  hex4v      1107 non-null   float64\n",
      " 25  hex5h      1107 non-null   float64\n",
      " 26  hex5s      1107 non-null   float64\n",
      " 27  hex5v      1107 non-null   float64\n",
      "dtypes: float64(20), object(8)\n",
      "memory usage: 242.3+ KB\n"
     ]
    }
   ],
   "source": [
    "data.info()"
   ],
   "metadata": {
    "collapsed": false,
    "pycharm": {
     "name": "#%%\n"
    }
   }
  },
  {
   "cell_type": "code",
   "execution_count": 15,
   "outputs": [
    {
     "data": {
      "text/plain": "                   제목 카테고리     hex1     hex2     hex3     hex4     hex5  \\\n0        4와 2분의 1 정거장   BL  #fefcf7  #fcd2cf  #fa8263  #f6ae9d  #dd3435   \n1              BL의 정석   BL  #e5e8e9  #3294c2  #282b2e  #6a6f73  #b6b7b9   \n2  Not so bad(낫 소 배드)   BL  #fdf6f1  #301632  #f3d9c4  #693560  #b68293   \n3          Take on Me   BL  #f2f5f1  #f0c9c2  #d4898d  #914a5d  #431c27   \n4   [BL] 새비지 가든 [일반판]   BL  #fdf8f0  #65504d  #a39796  #e1c3ae  #251916   \n\n   hex1rate  hex2rate  hex3rate  ...     hex2v     hex3h     hex3s     hex3v  \\\n0  0.362742  0.254111  0.181476  ...  0.988235  0.000134  0.002369  0.980392   \n1  0.595297  0.128252  0.106436  ...  0.760784  0.002288  0.000512  0.180392   \n2  0.538033  0.174916  0.169953  ...  0.196078  0.000292  0.000758  0.952941   \n3  0.550254  0.149492  0.129461  ...  0.941176  0.003887  0.001387  0.831373   \n4  0.323965  0.282766  0.149054  ...  0.396078  0.000050  0.000313  0.639216   \n\n      hex4h     hex4s     hex4v     hex5h     hex5s     hex5v  \n0  0.000125  0.001419  0.964706  0.003918  0.002999  0.866667  \n1  0.002251  0.000307  0.450980  0.002397  0.000064  0.725490  \n2  0.003381  0.001942  0.411765  0.003708  0.001120  0.713725  \n3  0.003747  0.001920  0.568627  0.003737  0.002283  0.262745  \n4  0.000269  0.000889  0.882353  0.000131  0.001590  0.145098  \n\n[5 rows x 28 columns]",
      "text/html": "<div>\n<style scoped>\n    .dataframe tbody tr th:only-of-type {\n        vertical-align: middle;\n    }\n\n    .dataframe tbody tr th {\n        vertical-align: top;\n    }\n\n    .dataframe thead th {\n        text-align: right;\n    }\n</style>\n<table border=\"1\" class=\"dataframe\">\n  <thead>\n    <tr style=\"text-align: right;\">\n      <th></th>\n      <th>제목</th>\n      <th>카테고리</th>\n      <th>hex1</th>\n      <th>hex2</th>\n      <th>hex3</th>\n      <th>hex4</th>\n      <th>hex5</th>\n      <th>hex1rate</th>\n      <th>hex2rate</th>\n      <th>hex3rate</th>\n      <th>...</th>\n      <th>hex2v</th>\n      <th>hex3h</th>\n      <th>hex3s</th>\n      <th>hex3v</th>\n      <th>hex4h</th>\n      <th>hex4s</th>\n      <th>hex4v</th>\n      <th>hex5h</th>\n      <th>hex5s</th>\n      <th>hex5v</th>\n    </tr>\n  </thead>\n  <tbody>\n    <tr>\n      <th>0</th>\n      <td>4와 2분의 1 정거장</td>\n      <td>BL</td>\n      <td>#fefcf7</td>\n      <td>#fcd2cf</td>\n      <td>#fa8263</td>\n      <td>#f6ae9d</td>\n      <td>#dd3435</td>\n      <td>0.362742</td>\n      <td>0.254111</td>\n      <td>0.181476</td>\n      <td>...</td>\n      <td>0.988235</td>\n      <td>0.000134</td>\n      <td>0.002369</td>\n      <td>0.980392</td>\n      <td>0.000125</td>\n      <td>0.001419</td>\n      <td>0.964706</td>\n      <td>0.003918</td>\n      <td>0.002999</td>\n      <td>0.866667</td>\n    </tr>\n    <tr>\n      <th>1</th>\n      <td>BL의 정석</td>\n      <td>BL</td>\n      <td>#e5e8e9</td>\n      <td>#3294c2</td>\n      <td>#282b2e</td>\n      <td>#6a6f73</td>\n      <td>#b6b7b9</td>\n      <td>0.595297</td>\n      <td>0.128252</td>\n      <td>0.106436</td>\n      <td>...</td>\n      <td>0.760784</td>\n      <td>0.002288</td>\n      <td>0.000512</td>\n      <td>0.180392</td>\n      <td>0.002251</td>\n      <td>0.000307</td>\n      <td>0.450980</td>\n      <td>0.002397</td>\n      <td>0.000064</td>\n      <td>0.725490</td>\n    </tr>\n    <tr>\n      <th>2</th>\n      <td>Not so bad(낫 소 배드)</td>\n      <td>BL</td>\n      <td>#fdf6f1</td>\n      <td>#301632</td>\n      <td>#f3d9c4</td>\n      <td>#693560</td>\n      <td>#b68293</td>\n      <td>0.538033</td>\n      <td>0.174916</td>\n      <td>0.169953</td>\n      <td>...</td>\n      <td>0.196078</td>\n      <td>0.000292</td>\n      <td>0.000758</td>\n      <td>0.952941</td>\n      <td>0.003381</td>\n      <td>0.001942</td>\n      <td>0.411765</td>\n      <td>0.003708</td>\n      <td>0.001120</td>\n      <td>0.713725</td>\n    </tr>\n    <tr>\n      <th>3</th>\n      <td>Take on Me</td>\n      <td>BL</td>\n      <td>#f2f5f1</td>\n      <td>#f0c9c2</td>\n      <td>#d4898d</td>\n      <td>#914a5d</td>\n      <td>#431c27</td>\n      <td>0.550254</td>\n      <td>0.149492</td>\n      <td>0.129461</td>\n      <td>...</td>\n      <td>0.941176</td>\n      <td>0.003887</td>\n      <td>0.001387</td>\n      <td>0.831373</td>\n      <td>0.003747</td>\n      <td>0.001920</td>\n      <td>0.568627</td>\n      <td>0.003737</td>\n      <td>0.002283</td>\n      <td>0.262745</td>\n    </tr>\n    <tr>\n      <th>4</th>\n      <td>[BL] 새비지 가든 [일반판]</td>\n      <td>BL</td>\n      <td>#fdf8f0</td>\n      <td>#65504d</td>\n      <td>#a39796</td>\n      <td>#e1c3ae</td>\n      <td>#251916</td>\n      <td>0.323965</td>\n      <td>0.282766</td>\n      <td>0.149054</td>\n      <td>...</td>\n      <td>0.396078</td>\n      <td>0.000050</td>\n      <td>0.000313</td>\n      <td>0.639216</td>\n      <td>0.000269</td>\n      <td>0.000889</td>\n      <td>0.882353</td>\n      <td>0.000131</td>\n      <td>0.001590</td>\n      <td>0.145098</td>\n    </tr>\n  </tbody>\n</table>\n<p>5 rows × 28 columns</p>\n</div>"
     },
     "execution_count": 15,
     "metadata": {},
     "output_type": "execute_result"
    }
   ],
   "source": [
    "data.head()"
   ],
   "metadata": {
    "collapsed": false,
    "pycharm": {
     "name": "#%%\n"
    }
   }
  },
  {
   "cell_type": "markdown",
   "source": [
    "데이터셋의 형태도 그대로 유지되었고\n",
    "표준화 완료된 값으로 RGB 값을 반환하였다.\n",
    "\n",
    "일단 가능한지 보기 위해. 카테고리, hex1-5(rgb값), hex1-5 rate를 k-prototype에 적용시킨다.\n",
    "\n",
    "카테고리 함수 하나 때문에 UMAP을 사용했기 때문에, 그래프는 매 실행마다 다르게 나온다. 막으려먼, fit, umap 등에서 모두 seed 고정하고\n",
    "random.seed, np.seed, tf.seed의 고정도 필요.\n",
    "\n",
    "## 차후에 확인 작업 필요하다. rgb값만 넣고 k-prototype 돌린결과가 더 양호한지, 3개의 색만 넣은게 양호한지. 등등 여러가지 경우의 수를 확인해야 한다."
   ],
   "metadata": {
    "collapsed": false,
    "pycharm": {
     "name": "#%% md\n"
    }
   }
  },
  {
   "cell_type": "code",
   "execution_count": 16,
   "outputs": [
    {
     "data": {
      "text/plain": "  카테고리     hex1h     hex1s     hex1v     hex2h     hex2s     hex2v     hex3h  \\\n0   BL  0.000467  0.000108  0.996078  0.000044  0.000700  0.988235  0.000134   \n1   BL  0.002124  0.000067  0.913725  0.002170  0.002911  0.760784  0.002288   \n2   BL  0.000272  0.000186  0.992157  0.003221  0.002196  0.196078  0.000292   \n3   BL  0.001144  0.000064  0.960784  0.000099  0.000752  0.941176  0.003887   \n4   BL  0.000402  0.000202  0.992157  0.000082  0.000932  0.396078  0.000050   \n\n      hex3s     hex3v     hex4h     hex4s     hex4v     hex5h     hex5s  \\\n0  0.002369  0.980392  0.000125  0.001419  0.964706  0.003918  0.002999   \n1  0.000512  0.180392  0.002251  0.000307  0.450980  0.002397  0.000064   \n2  0.000758  0.952941  0.003381  0.001942  0.411765  0.003708  0.001120   \n3  0.001387  0.831373  0.003747  0.001920  0.568627  0.003737  0.002283   \n4  0.000313  0.639216  0.000269  0.000889  0.882353  0.000131  0.001590   \n\n      hex5v  \n0  0.866667  \n1  0.725490  \n2  0.713725  \n3  0.262745  \n4  0.145098  ",
      "text/html": "<div>\n<style scoped>\n    .dataframe tbody tr th:only-of-type {\n        vertical-align: middle;\n    }\n\n    .dataframe tbody tr th {\n        vertical-align: top;\n    }\n\n    .dataframe thead th {\n        text-align: right;\n    }\n</style>\n<table border=\"1\" class=\"dataframe\">\n  <thead>\n    <tr style=\"text-align: right;\">\n      <th></th>\n      <th>카테고리</th>\n      <th>hex1h</th>\n      <th>hex1s</th>\n      <th>hex1v</th>\n      <th>hex2h</th>\n      <th>hex2s</th>\n      <th>hex2v</th>\n      <th>hex3h</th>\n      <th>hex3s</th>\n      <th>hex3v</th>\n      <th>hex4h</th>\n      <th>hex4s</th>\n      <th>hex4v</th>\n      <th>hex5h</th>\n      <th>hex5s</th>\n      <th>hex5v</th>\n    </tr>\n  </thead>\n  <tbody>\n    <tr>\n      <th>0</th>\n      <td>BL</td>\n      <td>0.000467</td>\n      <td>0.000108</td>\n      <td>0.996078</td>\n      <td>0.000044</td>\n      <td>0.000700</td>\n      <td>0.988235</td>\n      <td>0.000134</td>\n      <td>0.002369</td>\n      <td>0.980392</td>\n      <td>0.000125</td>\n      <td>0.001419</td>\n      <td>0.964706</td>\n      <td>0.003918</td>\n      <td>0.002999</td>\n      <td>0.866667</td>\n    </tr>\n    <tr>\n      <th>1</th>\n      <td>BL</td>\n      <td>0.002124</td>\n      <td>0.000067</td>\n      <td>0.913725</td>\n      <td>0.002170</td>\n      <td>0.002911</td>\n      <td>0.760784</td>\n      <td>0.002288</td>\n      <td>0.000512</td>\n      <td>0.180392</td>\n      <td>0.002251</td>\n      <td>0.000307</td>\n      <td>0.450980</td>\n      <td>0.002397</td>\n      <td>0.000064</td>\n      <td>0.725490</td>\n    </tr>\n    <tr>\n      <th>2</th>\n      <td>BL</td>\n      <td>0.000272</td>\n      <td>0.000186</td>\n      <td>0.992157</td>\n      <td>0.003221</td>\n      <td>0.002196</td>\n      <td>0.196078</td>\n      <td>0.000292</td>\n      <td>0.000758</td>\n      <td>0.952941</td>\n      <td>0.003381</td>\n      <td>0.001942</td>\n      <td>0.411765</td>\n      <td>0.003708</td>\n      <td>0.001120</td>\n      <td>0.713725</td>\n    </tr>\n    <tr>\n      <th>3</th>\n      <td>BL</td>\n      <td>0.001144</td>\n      <td>0.000064</td>\n      <td>0.960784</td>\n      <td>0.000099</td>\n      <td>0.000752</td>\n      <td>0.941176</td>\n      <td>0.003887</td>\n      <td>0.001387</td>\n      <td>0.831373</td>\n      <td>0.003747</td>\n      <td>0.001920</td>\n      <td>0.568627</td>\n      <td>0.003737</td>\n      <td>0.002283</td>\n      <td>0.262745</td>\n    </tr>\n    <tr>\n      <th>4</th>\n      <td>BL</td>\n      <td>0.000402</td>\n      <td>0.000202</td>\n      <td>0.992157</td>\n      <td>0.000082</td>\n      <td>0.000932</td>\n      <td>0.396078</td>\n      <td>0.000050</td>\n      <td>0.000313</td>\n      <td>0.639216</td>\n      <td>0.000269</td>\n      <td>0.000889</td>\n      <td>0.882353</td>\n      <td>0.000131</td>\n      <td>0.001590</td>\n      <td>0.145098</td>\n    </tr>\n  </tbody>\n</table>\n</div>"
     },
     "execution_count": 16,
     "metadata": {},
     "output_type": "execute_result"
    }
   ],
   "source": [
    "protodata = data.drop(['제목','hex1','hex2','hex3','hex4','hex5','file_path','hex1rate','hex2rate','hex3rate','hex4rate','hex5rate'],axis = 1)\n",
    "protodata.head()"
   ],
   "metadata": {
    "collapsed": false,
    "pycharm": {
     "name": "#%%\n"
    }
   }
  },
  {
   "cell_type": "markdown",
   "source": [
    "k-prototype은 카테고리는 object형, 수치형은 k-mean 기반이기에 표준화가 이뤄져야한다.\n",
    "본 코드에서는 정규화로 계산되었다."
   ],
   "metadata": {
    "collapsed": false,
    "pycharm": {
     "name": "#%% md\n"
    }
   }
  },
  {
   "cell_type": "code",
   "execution_count": 17,
   "outputs": [
    {
     "name": "stdout",
     "output_type": "stream",
     "text": [
      "<class 'pandas.core.frame.DataFrame'>\n",
      "RangeIndex: 1107 entries, 0 to 1106\n",
      "Data columns (total 16 columns):\n",
      " #   Column  Non-Null Count  Dtype  \n",
      "---  ------  --------------  -----  \n",
      " 0   카테고리    1107 non-null   object \n",
      " 1   hex1h   1107 non-null   float64\n",
      " 2   hex1s   1107 non-null   float64\n",
      " 3   hex1v   1107 non-null   float64\n",
      " 4   hex2h   1107 non-null   float64\n",
      " 5   hex2s   1107 non-null   float64\n",
      " 6   hex2v   1107 non-null   float64\n",
      " 7   hex3h   1107 non-null   float64\n",
      " 8   hex3s   1107 non-null   float64\n",
      " 9   hex3v   1107 non-null   float64\n",
      " 10  hex4h   1107 non-null   float64\n",
      " 11  hex4s   1107 non-null   float64\n",
      " 12  hex4v   1107 non-null   float64\n",
      " 13  hex5h   1107 non-null   float64\n",
      " 14  hex5s   1107 non-null   float64\n",
      " 15  hex5v   1107 non-null   float64\n",
      "dtypes: float64(15), object(1)\n",
      "memory usage: 138.5+ KB\n"
     ]
    }
   ],
   "source": [
    "protodata.info()"
   ],
   "metadata": {
    "collapsed": false,
    "pycharm": {
     "name": "#%%\n"
    }
   }
  },
  {
   "cell_type": "markdown",
   "source": [
    "UMAP Embedding 작업.\n",
    "numerical의 전처리는 이미 정규화 되었기에 실시하지 않는다."
   ],
   "metadata": {
    "collapsed": false,
    "pycharm": {
     "name": "#%% md\n"
    }
   }
  },
  {
   "cell_type": "code",
   "execution_count": 18,
   "outputs": [
    {
     "name": "stdout",
     "output_type": "stream",
     "text": [
      "전체에서 범주형 데이터 비중 : 0.0625\n"
     ]
    },
    {
     "name": "stderr",
     "output_type": "stream",
     "text": [
      "C:\\Users\\styli\\anaconda3\\lib\\site-packages\\umap\\umap_.py:1802: UserWarning: gradient function is not yet implemented for dice distance metric; inverse_transform will be unavailable\n"
     ]
    }
   ],
   "source": [
    "#Preprocessing numerical\n",
    "numerical = protodata.select_dtypes(exclude='object')\n",
    "\n",
    "##preprocessing categorical\n",
    "categorical = protodata.select_dtypes(include='object')\n",
    "categorical = pd.get_dummies(categorical)\n",
    "\n",
    "#Percentage of columns which are categorical is used as weight parameter in embeddings later\n",
    "categorical_weight = len(protodata.select_dtypes(include='object').columns) / protodata.shape[1]\n",
    "print(f'전체에서 범주형 데이터 비중 : {categorical_weight}')\n",
    "\n",
    "#Embedding numerical & categorical\n",
    "fit1 = umap.UMAP(metric='l2').fit(numerical)\n",
    "fit2 = umap.UMAP(metric='dice').fit(categorical)"
   ],
   "metadata": {
    "collapsed": false,
    "pycharm": {
     "name": "#%%\n"
    }
   }
  },
  {
   "cell_type": "markdown",
   "source": [
    "임베딩 후 그래프 그리기."
   ],
   "metadata": {
    "collapsed": false,
    "pycharm": {
     "name": "#%% md\n"
    }
   }
  },
  {
   "cell_type": "code",
   "execution_count": 19,
   "outputs": [
    {
     "data": {
      "text/plain": "  0%|          | 0/500 [00:00<?, ?it/s]",
      "application/vnd.jupyter.widget-view+json": {
       "version_major": 2,
       "version_minor": 0,
       "model_id": "640be3d780e24d8d9ca1eb47d53ff51c"
      }
     },
     "metadata": {},
     "output_type": "display_data"
    }
   ],
   "source": [
    "#Augmenting the numerical embedding with categorical\n",
    "intersection = umap.umap_.general_simplicial_set_intersection(fit1.graph_, fit2.graph_, weight=categorical_weight)\n",
    "intersection = umap.umap_.reset_local_connectivity(intersection)\n",
    "\n",
    "embedding = umap.umap_.simplicial_set_embedding(data=fit1._raw_data, graph=intersection, n_components=fit1.n_components,\n",
    "                                                initial_alpha=fit1._initial_alpha, a=fit1._a, b=fit1._b,\n",
    "                                                gamma=fit1.repulsion_strength, negative_sample_rate=fit1.negative_sample_rate,\n",
    "                                                n_epochs=500, init = 'random', random_state = np.random, metric = fit1.metric,\n",
    "                                                metric_kwds= fit1._metric_kwds, densmap = False, densmap_kwds=False, output_dens=False, verbose=1)"
   ],
   "metadata": {
    "collapsed": false,
    "pycharm": {
     "name": "#%%\n"
    }
   }
  },
  {
   "cell_type": "markdown",
   "source": [
    "플롯을 출력한다"
   ],
   "metadata": {
    "collapsed": false,
    "pycharm": {
     "name": "#%% md\n"
    }
   }
  },
  {
   "cell_type": "code",
   "execution_count": 20,
   "outputs": [
    {
     "data": {
      "text/plain": "<Figure size 1440x720 with 1 Axes>",
      "image/png": "[encoded data removed]"
     },
     "metadata": {
      "needs_background": "light"
     },
     "output_type": "display_data"
    }
   ],
   "source": [
    "plt.figure(figsize=(20, 10))\n",
    "plt.scatter(embedding[0][:, 0], embedding[0][:, 1],s=2, cmap='Spectral', alpha=1.0)\n",
    "plt.show()"
   ],
   "metadata": {
    "collapsed": false,
    "pycharm": {
     "name": "#%%\n"
    }
   }
  },
  {
   "cell_type": "markdown",
   "source": [
    "좋은 모양일까?, 좋은 모양이더라도 UMAP이기에 항상 이모양이라고 가정할 수 없기 때문에 잘 모른다.\n",
    "또한 클러스터링 된 결과가 그래프의 모양과 일치하지 않을수도 있다.\n",
    "\n",
    "\n",
    "일단 그래프 작업은 여기까지 진행하고, prototype을 돌리기 위한 사전작업을 진행한다."
   ],
   "metadata": {
    "collapsed": false,
    "pycharm": {
     "name": "#%% md\n"
    }
   }
  },
  {
   "cell_type": "code",
   "execution_count": 21,
   "outputs": [
    {
     "name": "stdout",
     "output_type": "stream",
     "text": [
      "Categorical columns           : ['카테고리']\n",
      "Categorical columns position  : [0]\n"
     ]
    }
   ],
   "source": [
    "categorical_columns = [protodata.columns.get_loc(col) for col in list(protodata.select_dtypes('object').columns)]\n",
    "print('Categorical columns           : {}'.format(list(protodata.select_dtypes('object').columns)))\n",
    "print('Categorical columns position  : {}'.format(categorical_columns))"
   ],
   "metadata": {
    "collapsed": false,
    "pycharm": {
     "name": "#%%\n"
    }
   }
  },
  {
   "cell_type": "markdown",
   "source": [
    "원래라면, k=8정도에서 멈출것이지만, 열이 상당히 많음으로\n",
    "또한 분류 해야할 범위가 크다고 판단하여, 16까지 진행하였다.\n",
    "\n",
    "또한 scree plot은 결과를 고정하는것이 좋으므로 seed를 임의로 고정하여 그렸다."
   ],
   "metadata": {
    "collapsed": false,
    "pycharm": {
     "name": "#%% md\n"
    }
   }
  },
  {
   "cell_type": "code",
   "execution_count": 22,
   "outputs": [
    {
     "name": "stderr",
     "output_type": "stream",
     "text": [
      "  6%|▋         | 1/16 [00:08<02:12,  8.85s/it]"
     ]
    },
    {
     "name": "stdout",
     "output_type": "stream",
     "text": [
      "Best run was number 1\n",
      "594.4759559289413\n",
      "Cluster initiation: 1\n"
     ]
    },
    {
     "name": "stderr",
     "output_type": "stream",
     "text": [
      " 12%|█▎        | 2/16 [00:13<01:25,  6.11s/it]"
     ]
    },
    {
     "name": "stdout",
     "output_type": "stream",
     "text": [
      "Best run was number 10\n",
      "458.92231033405585\n",
      "Cluster initiation: 2\n"
     ]
    },
    {
     "name": "stderr",
     "output_type": "stream",
     "text": [
      " 19%|█▉        | 3/16 [00:19<01:20,  6.20s/it]"
     ]
    },
    {
     "name": "stdout",
     "output_type": "stream",
     "text": [
      "Best run was number 3\n",
      "392.48340062288804\n",
      "Cluster initiation: 3\n"
     ]
    },
    {
     "name": "stderr",
     "output_type": "stream",
     "text": [
      " 25%|██▌       | 4/16 [00:25<01:14,  6.21s/it]"
     ]
    },
    {
     "name": "stdout",
     "output_type": "stream",
     "text": [
      "Best run was number 6\n",
      "351.14790359896386\n",
      "Cluster initiation: 4\n"
     ]
    },
    {
     "name": "stderr",
     "output_type": "stream",
     "text": [
      " 31%|███▏      | 5/16 [00:32<01:10,  6.40s/it]"
     ]
    },
    {
     "name": "stdout",
     "output_type": "stream",
     "text": [
      "Best run was number 1\n",
      "321.78876713114704\n",
      "Cluster initiation: 5\n"
     ]
    },
    {
     "name": "stderr",
     "output_type": "stream",
     "text": [
      " 38%|███▊      | 6/16 [00:38<01:01,  6.17s/it]"
     ]
    },
    {
     "name": "stdout",
     "output_type": "stream",
     "text": [
      "Best run was number 9\n",
      "297.9118251145707\n",
      "Cluster initiation: 6\n"
     ]
    },
    {
     "name": "stderr",
     "output_type": "stream",
     "text": [
      " 44%|████▍     | 7/16 [00:43<00:53,  5.98s/it]"
     ]
    },
    {
     "name": "stdout",
     "output_type": "stream",
     "text": [
      "Best run was number 10\n",
      "286.31650883609495\n",
      "Cluster initiation: 7\n"
     ]
    },
    {
     "name": "stderr",
     "output_type": "stream",
     "text": [
      " 50%|█████     | 8/16 [00:48<00:45,  5.63s/it]"
     ]
    },
    {
     "name": "stdout",
     "output_type": "stream",
     "text": [
      "Best run was number 3\n",
      "274.8910619820195\n",
      "Cluster initiation: 8\n"
     ]
    },
    {
     "name": "stderr",
     "output_type": "stream",
     "text": [
      " 56%|█████▋    | 9/16 [00:55<00:41,  5.94s/it]"
     ]
    },
    {
     "name": "stdout",
     "output_type": "stream",
     "text": [
      "Best run was number 1\n",
      "266.8748724360679\n",
      "Cluster initiation: 9\n"
     ]
    },
    {
     "name": "stderr",
     "output_type": "stream",
     "text": [
      " 62%|██████▎   | 10/16 [01:01<00:36,  6.07s/it]"
     ]
    },
    {
     "name": "stdout",
     "output_type": "stream",
     "text": [
      "Best run was number 9\n",
      "255.80940121218563\n",
      "Cluster initiation: 10\n"
     ]
    },
    {
     "name": "stderr",
     "output_type": "stream",
     "text": [
      " 69%|██████▉   | 11/16 [01:08<00:31,  6.36s/it]"
     ]
    },
    {
     "name": "stdout",
     "output_type": "stream",
     "text": [
      "Best run was number 8\n",
      "249.77590791646833\n",
      "Cluster initiation: 11\n"
     ]
    },
    {
     "name": "stderr",
     "output_type": "stream",
     "text": [
      " 75%|███████▌  | 12/16 [01:16<00:27,  6.81s/it]"
     ]
    },
    {
     "name": "stdout",
     "output_type": "stream",
     "text": [
      "Best run was number 5\n",
      "239.4687711454661\n",
      "Cluster initiation: 12\n"
     ]
    },
    {
     "name": "stderr",
     "output_type": "stream",
     "text": [
      " 81%|████████▏ | 13/16 [01:22<00:19,  6.50s/it]"
     ]
    },
    {
     "name": "stdout",
     "output_type": "stream",
     "text": [
      "Best run was number 6\n",
      "233.07030402199885\n",
      "Cluster initiation: 13\n"
     ]
    },
    {
     "name": "stderr",
     "output_type": "stream",
     "text": [
      " 88%|████████▊ | 14/16 [01:29<00:13,  6.78s/it]"
     ]
    },
    {
     "name": "stdout",
     "output_type": "stream",
     "text": [
      "Best run was number 7\n",
      "225.7866193945951\n",
      "Cluster initiation: 14\n"
     ]
    },
    {
     "name": "stderr",
     "output_type": "stream",
     "text": [
      " 94%|█████████▍| 15/16 [01:36<00:06,  6.88s/it]"
     ]
    },
    {
     "name": "stdout",
     "output_type": "stream",
     "text": [
      "Best run was number 2\n",
      "221.8637702757228\n",
      "Cluster initiation: 15\n"
     ]
    },
    {
     "name": "stderr",
     "output_type": "stream",
     "text": [
      "100%|██████████| 16/16 [01:44<00:00,  6.54s/it]"
     ]
    },
    {
     "name": "stdout",
     "output_type": "stream",
     "text": [
      "Best run was number 5\n",
      "216.00282005090645\n",
      "Cluster initiation: 16\n"
     ]
    },
    {
     "name": "stderr",
     "output_type": "stream",
     "text": [
      "\n"
     ]
    }
   ],
   "source": [
    "# Choose optimal K using Elbow method\n",
    "cost = []\n",
    "for cluster in tqdm(range(1, 17)):\n",
    "    try:\n",
    "        kprototype = KPrototypes(n_jobs = -1, n_clusters = cluster, init = 'Huang', random_state = 404, verbose = 1)\n",
    "        kprototype.fit_predict(protodata, categorical = categorical_columns)\n",
    "        cost.append(kprototype.cost_)\n",
    "        print(kprototype.cost_)\n",
    "        print('Cluster initiation: {}'.format(cluster))\n",
    "    except:\n",
    "        break"
   ],
   "metadata": {
    "collapsed": false,
    "pycharm": {
     "name": "#%%\n"
    }
   }
  },
  {
   "cell_type": "markdown",
   "source": [
    "k=2~20 까지의 비용함수 그래프를 그린다. -> scree plot"
   ],
   "metadata": {
    "collapsed": false,
    "pycharm": {
     "name": "#%% md\n"
    }
   }
  },
  {
   "cell_type": "code",
   "execution_count": 23,
   "outputs": [
    {
     "data": {
      "text/plain": "<Figure size 1000x500 with 1 Axes>",
      "image/png": "[encoded data removed]"
     },
     "metadata": {
      "needs_background": "light"
     },
     "output_type": "display_data"
    },
    {
     "data": {
      "text/plain": "<ggplot: (201881204336)>"
     },
     "execution_count": 23,
     "metadata": {},
     "output_type": "execute_result"
    }
   ],
   "source": [
    "df_cost = pd.DataFrame({'Cluster':range(1, 17), 'Cost':cost})\n",
    "# Data viz\n",
    "plotnine.options.figure_size = (10, 5)\n",
    "(\n",
    "        ggplot(data = df_cost)+\n",
    "        geom_line(aes(x = 'Cluster',\n",
    "                      y = 'Cost'))+\n",
    "        geom_point(aes(x = 'Cluster',\n",
    "                       y = 'Cost'))+\n",
    "        geom_label(aes(x = 'Cluster',\n",
    "                       y = 'Cost',\n",
    "                       label = 'Cluster'),\n",
    "                   size = 10,\n",
    "                   nudge_y = 1000) +\n",
    "        labs(title = 'Optimal number of cluster with Elbow Method')+\n",
    "        xlab('Number of Clusters k')+\n",
    "        ylab('Cost')+\n",
    "        theme_minimal()\n",
    ")"
   ],
   "metadata": {
    "collapsed": false,
    "pycharm": {
     "name": "#%%\n"
    }
   }
  },
  {
   "cell_type": "markdown",
   "source": [
    "4가 기준점으로 삼기 적절한것 같은 판단 하에, 4로 군집화를 시도하였다.\n",
    "모양이 올바르지 않거나, 군집화가 안맞으면 바꾸는게 맞다고 판단."
   ],
   "metadata": {
    "collapsed": false,
    "pycharm": {
     "name": "#%% md\n"
    }
   }
  },
  {
   "cell_type": "code",
   "execution_count": 24,
   "outputs": [],
   "source": [
    "# k 기준값\n",
    "k_cluster = 7\n",
    "# clustering process\n",
    "kproto = KPrototypes(n_clusters= k_cluster, init='Cao', n_jobs = -1)\n",
    "clusters = kproto.fit_predict(protodata, categorical=categorical_columns)"
   ],
   "metadata": {
    "collapsed": false,
    "pycharm": {
     "name": "#%%\n"
    }
   }
  },
  {
   "cell_type": "markdown",
   "source": [
    "범주에 할당된 값은 다음과 같습니다."
   ],
   "metadata": {
    "collapsed": false,
    "pycharm": {
     "name": "#%% md\n"
    }
   }
  },
  {
   "cell_type": "code",
   "execution_count": 25,
   "outputs": [
    {
     "data": {
      "text/plain": "4    233\n5    211\n0    162\n3    145\n2    134\n6    127\n1     95\ndtype: int64"
     },
     "execution_count": 25,
     "metadata": {},
     "output_type": "execute_result"
    }
   ],
   "source": [
    "pd.Series(clusters).value_counts()"
   ],
   "metadata": {
    "collapsed": false,
    "pycharm": {
     "name": "#%%\n"
    }
   }
  },
  {
   "cell_type": "markdown",
   "source": [
    "그래프 상에서는 다음과 같이 나타납니다."
   ],
   "metadata": {
    "collapsed": false,
    "pycharm": {
     "name": "#%% md\n"
    }
   }
  },
  {
   "cell_type": "code",
   "execution_count": 26,
   "outputs": [
    {
     "data": {
      "text/plain": "<matplotlib.legend.Legend at 0x2f010d60be0>"
     },
     "execution_count": 26,
     "metadata": {},
     "output_type": "execute_result"
    },
    {
     "data": {
      "text/plain": "<Figure size 1440x720 with 1 Axes>",
      "image/png": "[encoded data removed]"
     },
     "metadata": {
      "needs_background": "light"
     },
     "output_type": "display_data"
    }
   ],
   "source": [
    "fig, ax = plt.subplots()\n",
    "fig.set_size_inches((20, 10))\n",
    "scatter = ax.scatter(embedding[0][:, 0], embedding[0][:, 1], s=18, c=clusters, cmap='tab20b', alpha=1.0)\n",
    "\n",
    "# produce a legend with the unique colors from the scatter\n",
    "legend1 = ax.legend(*scatter.legend_elements(num=k_cluster),\n",
    "                    loc=\"lower left\", title=\"Classes\")\n",
    "ax.add_artist(legend1)"
   ],
   "metadata": {
    "collapsed": false,
    "pycharm": {
     "name": "#%%\n"
    }
   }
  },
  {
   "cell_type": "markdown",
   "source": [
    "구성값을 좀 파악해보고 싶은데. 일단 원 데이터 셋에, 분류된 라벨링 값을 부여함."
   ],
   "metadata": {
    "collapsed": false,
    "pycharm": {
     "name": "#%% md\n"
    }
   }
  },
  {
   "cell_type": "code",
   "execution_count": 27,
   "outputs": [],
   "source": [
    "outputs = data.copy()\n",
    "outputs['Cluster Labels'] = kproto.labels_"
   ],
   "metadata": {
    "collapsed": false,
    "pycharm": {
     "name": "#%%\n"
    }
   }
  },
  {
   "cell_type": "markdown",
   "source": [
    "사실 이렇게 봐서는 잘 모르겠다...."
   ],
   "metadata": {
    "collapsed": false,
    "pycharm": {
     "name": "#%% md\n"
    }
   }
  },
  {
   "cell_type": "code",
   "execution_count": 28,
   "outputs": [
    {
     "data": {
      "text/plain": "판타지    52\n액션     38\n스릴러    23\n드라마    18\nBL     13\n순정     13\n개그      4\n일상      1\nName: 카테고리, dtype: int64"
     },
     "execution_count": 28,
     "metadata": {},
     "output_type": "execute_result"
    }
   ],
   "source": [
    "outputs[outputs['Cluster Labels']==0].카테고리.value_counts()"
   ],
   "metadata": {
    "collapsed": false,
    "pycharm": {
     "name": "#%%\n"
    }
   }
  },
  {
   "cell_type": "code",
   "execution_count": 29,
   "outputs": [
    {
     "data": {
      "text/plain": "array(['#534f49', '#271e1d', '#504942', '#48352f', '#2d273c', '#0e0a07',\n       '#504843', '#261f16', '#643636', '#3e2925', '#320b09', '#0a0504',\n       '#0b0406', '#3a2625', '#692b1c', '#37512e', '#504137', '#2c373f',\n       '#010101', '#514a35', '#130d0d', '#1b1515', '#23170e', '#443b36',\n       '#3c1d20', '#1c1b23', '#1c2c42', '#0c0c0b', '#030108', '#1b2937',\n       '#050405', '#0c0907', '#0f0c10', '#030303', '#151a22', '#50455d',\n       '#38292c', '#493343', '#543a35', '#242434', '#180f0c', '#2a1b1e',\n       '#393135', '#121a1c', '#46322d', '#2d2841', '#494a5d', '#3f2613',\n       '#2f1b24', '#534a4b', '#010301', '#050707', '#030203', '#0d0608',\n       '#0b080a', '#1a0d09', '#646c5e', '#3c3543', '#050402', '#0f1213',\n       '#080607', '#090910', '#2a292c', '#535353', '#131521', '#4e4344',\n       '#04080c', '#0f1418', '#312e30', '#4a4745', '#6f3d4f', '#343336',\n       '#592228', '#645a5e', '#060606', '#15233c', '#2d1310', '#5e2d48',\n       '#5a575a', '#130807', '#2d2e37', '#070707', '#485a5e', '#693e40',\n       '#100c0d', '#241720', '#151c1f', '#080512', '#2a1e22', '#1c110f',\n       '#494d47', '#3d3031', '#421822', '#242027', '#2b251c', '#2a2529',\n       '#0e0a08', '#181729', '#0d0c0e', '#17121c', '#1d1b1b', '#0d0b0b',\n       '#100b0a', '#281d19', '#653a2c', '#21181d', '#342928', '#0f0f0c',\n       '#1a1b24', '#39283a', '#5c4246', '#150b0c', '#234962', '#42121a',\n       '#252021', '#1a161c', '#180e2d', '#45253f', '#22080b', '#293e6c',\n       '#161c25', '#6c5648', '#080707', '#216e7c', '#2e3a6e', '#436998',\n       '#0e0302', '#352533', '#0f0f11', '#221109', '#020710', '#221f1d',\n       '#3b1c24', '#030102', '#2a2728', '#060303', '#314761', '#271d22',\n       '#372b32', '#21181c', '#040c13', '#1c121d', '#221c33', '#291e1b',\n       '#6a6862', '#482d3a', '#7d4345', '#343434', '#632757', '#212238',\n       '#716963', '#652623', '#33444e', '#524855', '#431b16', '#130b09',\n       '#3c0e0e', '#151d2d', '#1c1c25', '#250e18'], dtype=object)"
     },
     "execution_count": 29,
     "metadata": {},
     "output_type": "execute_result"
    }
   ],
   "source": [
    "outputs[outputs['Cluster Labels']==0].hex1.unique()"
   ],
   "metadata": {
    "collapsed": false,
    "pycharm": {
     "name": "#%%\n"
    }
   }
  },
  {
   "cell_type": "markdown",
   "source": [
    "아니 진짜로... 진짜 모르겠으니까 폴더별로 정리해서 그림 묶음 확인하자.\n",
    "여기서부터는 실행 안한 코드라서 잘 돌아가는지 모름."
   ],
   "metadata": {
    "collapsed": false,
    "pycharm": {
     "name": "#%% md\n"
    }
   }
  },
  {
   "cell_type": "code",
   "execution_count": 30,
   "outputs": [],
   "source": [
    "# 기존 작업에서 실시하였다면,\n",
    "# 기존에 존재하는 값또한 지워야 하기 때문에, os.rmdir을 사용하지 못합니다.\n",
    "if os.path.exists('KPrototypes_Output_images'):\n",
    "    shutil.rmtree('KPrototypes_Output_images')\n",
    "\n",
    "# 다시 폴더를 만들어줍니다.\n",
    "os.mkdir('KPrototypes_Output_images')\n",
    "for i in range(k_cluster):\n",
    "    os.mkdir('KPrototypes_Output_images/'+str(i)+'_cluster')"
   ],
   "metadata": {
    "collapsed": false,
    "pycharm": {
     "name": "#%%\n"
    }
   }
  },
  {
   "cell_type": "markdown",
   "source": [
    "폴더를 만들었으니, 이제 해당하는 위치에, 파일을 집어넣기만 하면 된다.\n",
    "앞서 그림 색상에서, path를 포함하는 k-mean 파일을 새로 만들었으므로, 그 위치 참조.\n",
    "\n",
    "아래 코드로 클러스터 폴더에 복사-저장되어 정리되겠다."
   ],
   "metadata": {
    "collapsed": false,
    "pycharm": {
     "name": "#%% md\n"
    }
   }
  },
  {
   "cell_type": "code",
   "execution_count": 31,
   "outputs": [
    {
     "name": "stderr",
     "output_type": "stream",
     "text": [
      "100%|██████████| 1107/1107 [00:09<00:00, 114.67it/s]\n"
     ]
    }
   ],
   "source": [
    "for idx in tqdm(outputs.index):\n",
    "    line = outputs.loc[idx]\n",
    "    # 복사할 파일의 위치 - 상대경로.\n",
    "    file_from = str(line.카테고리) + '/' + str(line.file_path)\n",
    "    # 도착위치.\n",
    "    file_to = 'KPrototypes_Output_images/' + str(line['Cluster Labels']) +'_cluster/' +str(line.file_path)\n",
    "\n",
    "    shutil.copyfile(file_from, file_to)"
   ],
   "metadata": {
    "collapsed": false,
    "pycharm": {
     "name": "#%%\n"
    }
   }
  },
  {
   "cell_type": "markdown",
   "source": [
    "센트로이드 중심점."
   ],
   "metadata": {
    "collapsed": false,
    "pycharm": {
     "name": "#%% md\n"
    }
   }
  },
  {
   "cell_type": "code",
   "execution_count": 32,
   "outputs": [
    {
     "data": {
      "text/plain": "array([['0.0019453542484338322', '0.0014474277819578711',\n        '0.19586056644880143', '0.001845310777988744',\n        '0.001282553856854349', '0.3201404018397489',\n        '0.0014831216277457972', '0.0010286337111648852',\n        '0.649963689179375', '0.0012059972374527852',\n        '0.0010117618924523504', '0.7300653594771236',\n        '0.0012411346004609003', '0.001012373261364929',\n        '0.7669571532316619', '판타지'],\n       ['0.001342602519760552', '0.0007362900689125631',\n        '0.83595459236326', '0.002134186440964759',\n        '0.0014727655775786405', '0.3267698658410731',\n        '0.0020569655290049566', '0.0014251923411119686',\n        '0.3170278637770883', '0.001381350991722027',\n        '0.0011496924439938793', '0.7690402476780177',\n        '0.00135705084901792', '0.0012891337852380751',\n        '0.7833642930856566', '액션'],\n       ['0.0020091903882738836', '0.0015285202867880779',\n        '0.23441615452150963', '0.001382110422695825',\n        '0.0007931817288679692', '0.8775534094234702',\n        '0.0017499444168950899', '0.0012725470460899825',\n        '0.6679836113549896', '0.0015907449874385017',\n        '0.0012710401604545671', '0.6429323968393323',\n        '0.001768696492419833', '0.001458068524840563',\n        '0.6861574480538478', '액션'],\n       ['0.0011941584008230836', '0.0006368385130406568',\n        '0.9320622041920211', '0.002274895709662434',\n        '0.001315165422395842', '0.27386071670047324',\n        '0.00134742552384827', '0.0010096755805910711',\n        '0.8169303583502379', '0.0016032043964412184',\n        '0.0012665297965865443', '0.6735632183908038',\n        '0.0017942734113867162', '0.0014147199378132772',\n        '0.6264773495605143', '순정'],\n       ['0.0011137506054694863', '0.00045773684519649996',\n        '0.9149877976941836', '0.0012414006399848476',\n        '0.0008410517655012896', '0.8277034418917767',\n        '0.0015407117942095277', '0.0010519276599084532',\n        '0.7305730876041385', '0.0015978231381565493',\n        '0.0011572881905162864', '0.6589076832449711',\n        '0.002096242729151383', '0.0013653970014404213',\n        '0.28992678616511025', 'BL'],\n       ['0.0012436349426191153', '0.0005334801555720948',\n        '0.9191710807545765', '0.001305413519720634',\n        '0.0009106409197998132', '0.7997026298671129',\n        '0.0014562242912004538', '0.0011302870338121584',\n        '0.7185019979555791', '0.0019667434161431793',\n        '0.0012691892302444851', '0.2578384908465762',\n        '0.001594180020682344', '0.0014128309557731246',\n        '0.7070346622061152', '드라마'],\n       ['0.0010967897988066382', '0.00048356129484465154',\n        '0.926509186351705', '0.001351633506354123',\n        '0.0008635098251756503', '0.8523081673614327',\n        '0.0021607253641933', '0.00126898778518052',\n        '0.27741238227574594', '0.0016640590925495568',\n        '0.0011387621020171605', '0.6653388914620963',\n        '0.0014537829887096528', '0.001422207140215308',\n        '0.6376100046317731', '판타지']], dtype='<U32')"
     },
     "execution_count": 32,
     "metadata": {},
     "output_type": "execute_result"
    }
   ],
   "source": [
    "# Cluster centorid\n",
    "kproto.cluster_centroids_"
   ],
   "metadata": {
    "collapsed": false,
    "pycharm": {
     "name": "#%%\n"
    }
   }
  },
  {
   "cell_type": "code",
   "execution_count": 54,
   "outputs": [
    {
     "data": {
      "text/plain": "195.5740740740738"
     },
     "execution_count": 54,
     "metadata": {},
     "output_type": "execute_result"
    }
   ],
   "source": [
    "import colorsys\n",
    "# colorsys.hsv_to_rgb(h, s, v)\n",
    "cent = pd.DataFrame(kproto.cluster_centroids_)\n",
    "\n",
    "cent = pd.concat([(cent.iloc[:,0:3].astype('float')*255),(cent.iloc[:,3:6].astype('float')*255),\n",
    "                  (cent.iloc[:,6:9].astype('float')*255),(cent.iloc[:,9:12].astype('float')*255),\n",
    "                  (cent.iloc[:,12:15].astype('float')*255)], axis = 1)\n",
    "\n",
    "cent = cent.to_numpy()\n",
    "\n",
    "cent"
   ],
   "metadata": {
    "collapsed": false,
    "pycharm": {
     "name": "#%%\n"
    }
   }
  },
  {
   "cell_type": "markdown",
   "source": [
    "센트로이드 중심값은 다음과 같이 학습되었다."
   ],
   "metadata": {
    "collapsed": false,
    "pycharm": {
     "name": "#%% md\n"
    }
   }
  },
  {
   "cell_type": "code",
   "execution_count": 51,
   "outputs": [
    {
     "data": {
      "text/plain": "                 0                1                2                3  \\\n0     (31, 49, 49)     (54, 81, 76)  (122, 165, 133)  (145, 186, 138)   \n1  (173, 213, 175)     (52, 75, 83)     (51, 76, 80)  (138, 196, 145)   \n2     (36, 58, 59)  (178, 223, 183)  (115, 170, 152)  (110, 163, 133)   \n3  (205, 237, 199)     (46, 58, 69)  (154, 208, 157)  (116, 171, 141)   \n4  (214, 233, 206)  (170, 211, 165)  (136, 186, 154)  (118, 168, 140)   \n5  (205, 234, 202)  (156, 203, 156)  (130, 183, 142)     (44, 65, 65)   \n6  (216, 236, 207)  (169, 217, 172)     (47, 63, 70)  (120, 169, 147)   \n\n                 4  \n0  (150, 195, 145)  \n1  (134, 199, 139)  \n2  (109, 174, 155)  \n3  (102, 159, 145)  \n4     (48, 68, 73)  \n5  (115, 180, 143)  \n6  (103, 162, 116)  ",
      "text/html": "<div>\n<style scoped>\n    .dataframe tbody tr th:only-of-type {\n        vertical-align: middle;\n    }\n\n    .dataframe tbody tr th {\n        vertical-align: top;\n    }\n\n    .dataframe thead th {\n        text-align: right;\n    }\n</style>\n<table border=\"1\" class=\"dataframe\">\n  <thead>\n    <tr style=\"text-align: right;\">\n      <th></th>\n      <th>0</th>\n      <th>1</th>\n      <th>2</th>\n      <th>3</th>\n      <th>4</th>\n    </tr>\n  </thead>\n  <tbody>\n    <tr>\n      <th>0</th>\n      <td>(31, 49, 49)</td>\n      <td>(54, 81, 76)</td>\n      <td>(122, 165, 133)</td>\n      <td>(145, 186, 138)</td>\n      <td>(150, 195, 145)</td>\n    </tr>\n    <tr>\n      <th>1</th>\n      <td>(173, 213, 175)</td>\n      <td>(52, 75, 83)</td>\n      <td>(51, 76, 80)</td>\n      <td>(138, 196, 145)</td>\n      <td>(134, 199, 139)</td>\n    </tr>\n    <tr>\n      <th>2</th>\n      <td>(36, 58, 59)</td>\n      <td>(178, 223, 183)</td>\n      <td>(115, 170, 152)</td>\n      <td>(110, 163, 133)</td>\n      <td>(109, 174, 155)</td>\n    </tr>\n    <tr>\n      <th>3</th>\n      <td>(205, 237, 199)</td>\n      <td>(46, 58, 69)</td>\n      <td>(154, 208, 157)</td>\n      <td>(116, 171, 141)</td>\n      <td>(102, 159, 145)</td>\n    </tr>\n    <tr>\n      <th>4</th>\n      <td>(214, 233, 206)</td>\n      <td>(170, 211, 165)</td>\n      <td>(136, 186, 154)</td>\n      <td>(118, 168, 140)</td>\n      <td>(48, 68, 73)</td>\n    </tr>\n    <tr>\n      <th>5</th>\n      <td>(205, 234, 202)</td>\n      <td>(156, 203, 156)</td>\n      <td>(130, 183, 142)</td>\n      <td>(44, 65, 65)</td>\n      <td>(115, 180, 143)</td>\n    </tr>\n    <tr>\n      <th>6</th>\n      <td>(216, 236, 207)</td>\n      <td>(169, 217, 172)</td>\n      <td>(47, 63, 70)</td>\n      <td>(120, 169, 147)</td>\n      <td>(103, 162, 116)</td>\n    </tr>\n  </tbody>\n</table>\n</div>"
     },
     "execution_count": 51,
     "metadata": {},
     "output_type": "execute_result"
    }
   ],
   "source": [
    "hex1c = []\n",
    "hex2c = []\n",
    "hex3c = []\n",
    "hex4c = []\n",
    "hex5c = []\n",
    "for i in range(k_cluster):\n",
    "    r, g, b = colorsys.hsv_to_rgb(cent[i, 0:3][0], cent[i, 0:3][1], cent[i, 0:3][2])\n",
    "    r = int(r); g = int(g); b = int(b)\n",
    "    hex1c.append((r,g,b))\n",
    "    r, g, b = colorsys.hsv_to_rgb(cent[i, 3:6][0], cent[i, 3:6][1], cent[i, 3:6][2])\n",
    "    r = int(r); g = int(g); b = int(b)\n",
    "    hex2c.append((r,g,b))\n",
    "    r, g, b = colorsys.hsv_to_rgb(cent[i, 6:9][0], cent[i, 6:9][1], cent[i, 6:9][2])\n",
    "    r = int(r); g = int(g); b = int(b)\n",
    "    hex3c.append((r,g,b))\n",
    "    r, g, b = colorsys.hsv_to_rgb(cent[i, 9:12][0], cent[i, 9:12][1], cent[i, 9:12][2])\n",
    "    r = int(r); g = int(g); b = int(b)\n",
    "    hex4c.append((r,g,b))\n",
    "    r, g, b = colorsys.hsv_to_rgb(cent[i, 12:15][0], cent[i, 12:15][1], cent[i, 12:15][2])\n",
    "    r = int(r); g = int(g); b = int(b)\n",
    "    hex5c.append((r,g,b))\n",
    "\n",
    "\n",
    "cent = pd.DataFrame([hex1c,hex2c,hex3c,hex4c,hex5c])\n",
    "cent = cent.T\n",
    "# 이 형태가, 상위 5개 색상의 데이터인것이지.\n",
    "cent\n",
    "# hex5c.append(colorsys.hsv_to_rgb(cent[i, 12:15][0], cent[i, 12:15][1], cent[i, 12:15][2]))"
   ],
   "metadata": {
    "collapsed": false,
    "pycharm": {
     "name": "#%%\n"
    }
   }
  },
  {
   "cell_type": "code",
   "execution_count": 52,
   "outputs": [
    {
     "data": {
      "text/plain": "<Figure size 432x288 with 1 Axes>",
      "image/png": "[encoded data removed]"
     },
     "metadata": {
      "needs_background": "light"
     },
     "output_type": "display_data"
    },
    {
     "data": {
      "text/plain": "<Figure size 432x288 with 1 Axes>",
      "image/png": "[encoded data removed]"
     },
     "metadata": {
      "needs_background": "light"
     },
     "output_type": "display_data"
    },
    {
     "data": {
      "text/plain": "<Figure size 432x288 with 1 Axes>",
      "image/png": "[encoded data removed]"
     },
     "metadata": {
      "needs_background": "light"
     },
     "output_type": "display_data"
    },
    {
     "data": {
      "text/plain": "<Figure size 432x288 with 1 Axes>",
      "image/png": "[encoded data removed]"
     },
     "metadata": {
      "needs_background": "light"
     },
     "output_type": "display_data"
    },
    {
     "data": {
      "text/plain": "<Figure size 432x288 with 1 Axes>",
      "image/png": "[encoded data removed]"
     },
     "metadata": {
      "needs_background": "light"
     },
     "output_type": "display_data"
    },
    {
     "data": {
      "text/plain": "<Figure size 432x288 with 1 Axes>",
      "image/png": "[encoded data removed]"
     },
     "metadata": {
      "needs_background": "light"
     },
     "output_type": "display_data"
    },
    {
     "data": {
      "text/plain": "<Figure size 432x288 with 1 Axes>",
      "image/png": "[encoded data removed]"
     },
     "metadata": {
      "needs_background": "light"
     },
     "output_type": "display_data"
    }
   ],
   "source": [
    "\n",
    "for i in range(cent.shape[0]):\n",
    "    rgb_list = list(cent.iloc[i])\n",
    "    one_px = np.array(rgb_list)[np.newaxis, :, :]\n",
    "\n",
    "    plt.imshow(np.array(one_px));\n",
    "    plt.axis('off');\n",
    "    plt.show();\n",
    "\n",
    "    # plt.savefig(str(i)+'_cluster_centroids.png')\n"
   ],
   "metadata": {
    "collapsed": false,
    "pycharm": {
     "name": "#%%\n"
    }
   }
  },
  {
   "cell_type": "markdown",
   "source": [
    "고장났니? 아닌데..."
   ],
   "metadata": {
    "collapsed": false,
    "pycharm": {
     "name": "#%% md\n"
    }
   }
  },
  {
   "cell_type": "code",
   "execution_count": 35,
   "outputs": [
    {
     "data": {
      "text/plain": "<Figure size 432x288 with 1 Axes>",
      "image/png": "[encoded data removed]"
     },
     "metadata": {
      "needs_background": "light"
     },
     "output_type": "display_data"
    }
   ],
   "source": [
    "rgb_list = [(255, 0, 0), (0, 255, 0), (0, 0, 255)]\n",
    "one_px = np.array(rgb_list)[np.newaxis, :, :]\n",
    "\n",
    "plt.imshow(np.array(one_px));\n",
    "plt.axis('off');\n",
    "plt.show();"
   ],
   "metadata": {
    "collapsed": false,
    "pycharm": {
     "name": "#%%\n"
    }
   }
  },
  {
   "cell_type": "code",
   "execution_count": 36,
   "outputs": [
    {
     "data": {
      "text/plain": "'C:\\\\Users\\\\styli\\\\Desktop\\\\github_repository_add\\\\OneStore_webtoon_img_cluster'"
     },
     "execution_count": 36,
     "metadata": {},
     "output_type": "execute_result"
    }
   ],
   "source": [
    "os.getcwd()"
   ],
   "metadata": {
    "collapsed": false,
    "pycharm": {
     "name": "#%%\n"
    }
   }
  },
  {
   "cell_type": "code",
   "execution_count": 36,
   "outputs": [],
   "source": [],
   "metadata": {
    "collapsed": false,
    "pycharm": {
     "name": "#%%\n"
    }
   }
  }
 ],
 "metadata": {
  "kernelspec": {
   "display_name": "Python 3",
   "language": "python",
   "name": "python3"
  },
  "language_info": {
   "codemirror_mode": {
    "name": "ipython",
    "version": 2
   },
   "file_extension": ".py",
   "mimetype": "text/x-python",
   "name": "python",
   "nbconvert_exporter": "python",
   "pygments_lexer": "ipython2",
   "version": "2.7.6"
  }
 },
 "nbformat": 4,
 "nbformat_minor": 0
}